{
  "nbformat": 4,
  "nbformat_minor": 0,
  "metadata": {
    "colab": {
      "provenance": []
    },
    "kernelspec": {
      "name": "python3",
      "display_name": "Python 3"
    },
    "language_info": {
      "name": "python"
    }
  },
  "cells": [
    {
      "cell_type": "markdown",
      "source": [
        "**Importing library**"
      ],
      "metadata": {
        "id": "VxKwUIgfF-JN"
      }
    },
    {
      "cell_type": "code",
      "execution_count": 63,
      "metadata": {
        "id": "i0BZNsJ-F3nU"
      },
      "outputs": [],
      "source": [
        "import tensorflow as tf\n",
        "from tensorflow.keras import datasets, layers, models\n",
        "import matplotlib.pyplot as plt\n",
        "import numpy as np\n",
        "from sklearn.metrics import confusion_matrix , classification_report"
      ]
    },
    {
      "cell_type": "markdown",
      "source": [
        "**Importing dataset**"
      ],
      "metadata": {
        "id": "DIe6-makGB70"
      }
    },
    {
      "cell_type": "code",
      "source": [
        "(X_train, y_train), (X_test,y_test) = datasets.cifar10.load_data()"
      ],
      "metadata": {
        "id": "s9Nj6SfdGE2c"
      },
      "execution_count": 39,
      "outputs": []
    },
    {
      "cell_type": "markdown",
      "source": [
        "**verifying shape**"
      ],
      "metadata": {
        "id": "bKRGhlJQHGZT"
      }
    },
    {
      "cell_type": "code",
      "source": [
        "print(\"X_train shape \",X_train.shape)\n",
        "print(\"y_train shape \",y_train.shape)\n",
        "y_train=y_train.reshape(-1,)\n",
        "print(\"y_train shape become  \",y_train.shape)\n",
        "print(\"X_test shape \",X_test.shape)\n",
        "print(\"y_test shape \",y_test.shape)\n",
        "y_test=y_test.reshape(-1,)\n",
        "print(\"y_test shape become \",y_test.shape)\n",
        "y_train[:5]"
      ],
      "metadata": {
        "colab": {
          "base_uri": "https://localhost:8080/"
        },
        "id": "GhUYuFcXGHR4",
        "outputId": "2f05110c-4707-494b-a4c8-e309feadca3d"
      },
      "execution_count": 40,
      "outputs": [
        {
          "output_type": "stream",
          "name": "stdout",
          "text": [
            "X_train shape  (50000, 32, 32, 3)\n",
            "y_train shape  (50000, 1)\n",
            "y_train shape become   (50000,)\n",
            "X_test shape  (10000, 32, 32, 3)\n",
            "y_test shape  (10000, 1)\n",
            "y_test shape become  (10000,)\n"
          ]
        },
        {
          "output_type": "execute_result",
          "data": {
            "text/plain": [
              "array([6, 9, 9, 4, 1], dtype=uint8)"
            ]
          },
          "metadata": {},
          "execution_count": 40
        }
      ]
    },
    {
      "cell_type": "markdown",
      "source": [
        "Visualizing some data"
      ],
      "metadata": {
        "id": "j8yn4iGFHPwb"
      }
    },
    {
      "cell_type": "code",
      "source": [
        "classes = [\"airplane\",\"automobile\",\"bird\",\"cat\",\"deer\",\"dog\",\"frog\",\"horse\",\"ship\",\"truck\"]"
      ],
      "metadata": {
        "id": "mS_PE_mtN8wC"
      },
      "execution_count": 41,
      "outputs": []
    },
    {
      "cell_type": "code",
      "source": [
        "def plot_sample(X,y,index):\n",
        "  plt.figure(figsize=(16,2))\n",
        "  plt.imshow(X[index])\n",
        "  plt.xlabel(classes[y[index]])"
      ],
      "metadata": {
        "id": "kvHCdbD5Gi0E"
      },
      "execution_count": 42,
      "outputs": []
    },
    {
      "cell_type": "code",
      "source": [
        "plot_sample(X_train,y_train,1000)"
      ],
      "metadata": {
        "colab": {
          "base_uri": "https://localhost:8080/",
          "height": 237
        },
        "id": "9Hrjp4wUHW1F",
        "outputId": "1d075f5e-dc36-4e9f-dcf7-4f532f65db15"
      },
      "execution_count": 43,
      "outputs": [
        {
          "output_type": "display_data",
          "data": {
            "text/plain": [
              "<Figure size 1600x200 with 1 Axes>"
            ],
            "image/png": "[encoded data removed]"
          },
          "metadata": {}
        }
      ]
    },
    {
      "cell_type": "markdown",
      "source": [
        "**Normalization**"
      ],
      "metadata": {
        "id": "cFTZXgDGPiPy"
      }
    },
    {
      "cell_type": "code",
      "source": [
        "X_train=X_train / 255"
      ],
      "metadata": {
        "id": "aNFTRGyfNvpq"
      },
      "execution_count": 44,
      "outputs": []
    },
    {
      "cell_type": "code",
      "source": [
        "X_test=X_test / 255"
      ],
      "metadata": {
        "id": "fVtklOgrPrG5"
      },
      "execution_count": 45,
      "outputs": []
    },
    {
      "cell_type": "markdown",
      "source": [
        "**Building an ANN model**"
      ],
      "metadata": {
        "id": "S-958VX9QAYg"
      }
    },
    {
      "cell_type": "code",
      "source": [
        "ann_model=models.Sequential([\n",
        "    layers.Flatten(input_shape=(32,32,3)),\n",
        "    layers.Dense(3000,activation='relu'),\n",
        "    layers.Dense(1000,activation='relu'),\n",
        "    layers.Dense(10,activation='sigmoid')\n",
        "])\n",
        "ann_model.summary()"
      ],
      "metadata": {
        "colab": {
          "base_uri": "https://localhost:8080/"
        },
        "id": "OvfB_VPYQDpB",
        "outputId": "42ad0c53-5f15-405b-841b-d5cdc1c9137d"
      },
      "execution_count": 57,
      "outputs": [
        {
          "output_type": "stream",
          "name": "stdout",
          "text": [
            "Model: \"sequential_2\"\n",
            "_________________________________________________________________\n",
            " Layer (type)                Output Shape              Param #   \n",
            "=================================================================\n",
            " flatten_2 (Flatten)         (None, 3072)              0         \n",
            "                                                                 \n",
            " dense_6 (Dense)             (None, 3000)              9219000   \n",
            "                                                                 \n",
            " dense_7 (Dense)             (None, 1000)              3001000   \n",
            "                                                                 \n",
            " dense_8 (Dense)             (None, 10)                10010     \n",
            "                                                                 \n",
            "=================================================================\n",
            "Total params: 12,230,010\n",
            "Trainable params: 12,230,010\n",
            "Non-trainable params: 0\n",
            "_________________________________________________________________\n"
          ]
        }
      ]
    },
    {
      "cell_type": "code",
      "source": [
        "ann_model.compile(optimizer='SGD',\n",
        "                  loss='sparse_categorical_crossentropy',\n",
        "                  metrics=['accuracy'])"
      ],
      "metadata": {
        "id": "KlQMziODQkKp"
      },
      "execution_count": 60,
      "outputs": []
    },
    {
      "cell_type": "code",
      "source": [
        "ann_model.fit(X_train,y_train,epochs=5)"
      ],
      "metadata": {
        "colab": {
          "base_uri": "https://localhost:8080/"
        },
        "id": "0p0vYZcjQ7_Q",
        "outputId": "4b0759f3-a8cf-41f2-d7ca-d92f16d7df9f"
      },
      "execution_count": 61,
      "outputs": [
        {
          "output_type": "stream",
          "name": "stdout",
          "text": [
            "Epoch 1/5\n",
            "1563/1563 [==============================] - 86s 54ms/step - loss: 1.8142 - accuracy: 0.3536\n",
            "Epoch 2/5\n",
            "1563/1563 [==============================] - 85s 55ms/step - loss: 1.6234 - accuracy: 0.4284\n",
            "Epoch 3/5\n",
            "1563/1563 [==============================] - 86s 55ms/step - loss: 1.5403 - accuracy: 0.4584\n",
            "Epoch 4/5\n",
            "1563/1563 [==============================] - 87s 56ms/step - loss: 1.4795 - accuracy: 0.4791\n",
            "Epoch 5/5\n",
            "1563/1563 [==============================] - 94s 60ms/step - loss: 1.4305 - accuracy: 0.4957\n"
          ]
        },
        {
          "output_type": "execute_result",
          "data": {
            "text/plain": [
              "<keras.callbacks.History at 0x7c5cf15cb730>"
            ]
          },
          "metadata": {},
          "execution_count": 61
        }
      ]
    },
    {
      "cell_type": "code",
      "source": [
        "ann_model.evaluate(X_test,y_test)"
      ],
      "metadata": {
        "colab": {
          "base_uri": "https://localhost:8080/"
        },
        "id": "5Xj_XhA1TaeZ",
        "outputId": "eebecc1d-54c2-4825-e05a-154b98cd2b81"
      },
      "execution_count": 62,
      "outputs": [
        {
          "output_type": "stream",
          "name": "stdout",
          "text": [
            "313/313 [==============================] - 6s 17ms/step - loss: 1.6229 - accuracy: 0.4118\n"
          ]
        },
        {
          "output_type": "execute_result",
          "data": {
            "text/plain": [
              "[1.6228581666946411, 0.41179999709129333]"
            ]
          },
          "metadata": {},
          "execution_count": 62
        }
      ]
    },
    {
      "cell_type": "code",
      "source": [
        "y_pred = ann_model.predict(X_test)\n",
        "y_pred_classes = [np.argmax(element) for element in y_pred]\n",
        "print(\"Classification Report: \\n\", classification_report(y_test, y_pred_classes))"
      ],
      "metadata": {
        "colab": {
          "base_uri": "https://localhost:8080/"
        },
        "id": "Ae_G_18eTrvQ",
        "outputId": "b857049d-0835-4c27-bde6-69a7974a4633"
      },
      "execution_count": 65,
      "outputs": [
        {
          "output_type": "stream",
          "name": "stdout",
          "text": [
            "313/313 [==============================] - 5s 17ms/step\n",
            "Classification Report: \n",
            "               precision    recall  f1-score   support\n",
            "\n",
            "           0       0.66      0.37      0.48      1000\n",
            "           1       0.73      0.36      0.48      1000\n",
            "           2       0.49      0.11      0.18      1000\n",
            "           3       0.46      0.14      0.22      1000\n",
            "           4       0.47      0.25      0.32      1000\n",
            "           5       0.46      0.24      0.32      1000\n",
            "           6       0.48      0.51      0.49      1000\n",
            "           7       0.22      0.89      0.35      1000\n",
            "           8       0.63      0.62      0.63      1000\n",
            "           9       0.48      0.62      0.54      1000\n",
            "\n",
            "    accuracy                           0.41     10000\n",
            "   macro avg       0.51      0.41      0.40     10000\n",
            "weighted avg       0.51      0.41      0.40     10000\n",
            "\n"
          ]
        }
      ]
    },
    {
      "cell_type": "markdown",
      "source": [
        "**Building CNN model**"
      ],
      "metadata": {
        "id": "t7TOWIf3SzvC"
      }
    },
    {
      "cell_type": "code",
      "source": [
        "cnn_model=models.Sequential([\n",
        "    #cnn\n",
        "    layers.Conv2D(filters=32, kernel_size=(3,3), activation='relu', input_shape=(32,32,3)),\n",
        "    layers.MaxPooling2D((2,2)),\n",
        "\n",
        "    layers.Conv2D(filters=64, kernel_size=(3,3), activation='relu'),\n",
        "    layers.MaxPooling2D((2,2)),\n",
        "    #dense\n",
        "    layers.Flatten(),\n",
        "    layers.Dense(64,activation='relu'),\n",
        "    layers.Dense(10,activation='softmax')\n",
        "])"
      ],
      "metadata": {
        "id": "XfG5d0PHRCLA"
      },
      "execution_count": 69,
      "outputs": []
    },
    {
      "cell_type": "code",
      "source": [
        "cnn_model.compile(optimizer='Adam',\n",
        "                  loss='sparse_categorical_crossentropy',\n",
        "                  metrics=['accuracy'])"
      ],
      "metadata": {
        "id": "ZjCy8zg_V_Of"
      },
      "execution_count": 70,
      "outputs": []
    },
    {
      "cell_type": "code",
      "source": [
        "history=cnn_model.fit(X_train,y_train,epochs=10)"
      ],
      "metadata": {
        "colab": {
          "base_uri": "https://localhost:8080/"
        },
        "id": "SBCQqKEgWdqP",
        "outputId": "eab981fa-f210-428f-bfbb-ce7c9288e8d5"
      },
      "execution_count": 72,
      "outputs": [
        {
          "output_type": "stream",
          "name": "stdout",
          "text": [
            "Epoch 1/10\n",
            "1563/1563 [==============================] - 46s 29ms/step - loss: 1.0687 - accuracy: 0.6305\n",
            "Epoch 2/10\n",
            "1563/1563 [==============================] - 45s 29ms/step - loss: 0.9649 - accuracy: 0.6672\n",
            "Epoch 3/10\n",
            "1563/1563 [==============================] - 45s 29ms/step - loss: 0.8897 - accuracy: 0.6911\n",
            "Epoch 4/10\n",
            "1563/1563 [==============================] - 45s 29ms/step - loss: 0.8303 - accuracy: 0.7124\n",
            "Epoch 5/10\n",
            "1563/1563 [==============================] - 47s 30ms/step - loss: 0.7810 - accuracy: 0.7290\n",
            "Epoch 6/10\n",
            "1563/1563 [==============================] - 44s 28ms/step - loss: 0.7335 - accuracy: 0.7466\n",
            "Epoch 7/10\n",
            "1563/1563 [==============================] - 45s 29ms/step - loss: 0.6918 - accuracy: 0.7601\n",
            "Epoch 8/10\n",
            "1563/1563 [==============================] - 45s 28ms/step - loss: 0.6506 - accuracy: 0.7734\n",
            "Epoch 9/10\n",
            "1563/1563 [==============================] - 44s 28ms/step - loss: 0.6187 - accuracy: 0.7849\n",
            "Epoch 10/10\n",
            "1563/1563 [==============================] - 45s 29ms/step - loss: 0.5858 - accuracy: 0.7956\n"
          ]
        }
      ]
    },
    {
      "cell_type": "code",
      "source": [
        "plt.figure(figsize=(7,7))\n",
        "plt.plot(history.history['loss'])\n",
        "plt.xlabel('epoch')\n",
        "plt.ylabel('loss')\n",
        "plt.title('model loss')"
      ],
      "metadata": {
        "colab": {
          "base_uri": "https://localhost:8080/",
          "height": 658
        },
        "id": "AKW-WZLhWi8n",
        "outputId": "e520ff1c-1941-41d6-f0f0-18441b844003"
      },
      "execution_count": 77,
      "outputs": [
        {
          "output_type": "execute_result",
          "data": {
            "text/plain": [
              "Text(0.5, 1.0, 'model loss')"
            ]
          },
          "metadata": {},
          "execution_count": 77
        },
        {
          "output_type": "display_data",
          "data": {
            "text/plain": [
              "<Figure size 700x700 with 1 Axes>"
            ],
            "image/png": "[encoded data removed]"
          },
          "metadata": {}
        }
      ]
    },
    {
      "cell_type": "code",
      "source": [
        "plt.figure(figsize=(7,7))\n",
        "plt.plot(history.history['accuracy'])\n",
        "plt.xlabel('epoch')\n",
        "plt.ylabel('loss')\n",
        "plt.title('model accuracy')"
      ],
      "metadata": {
        "colab": {
          "base_uri": "https://localhost:8080/",
          "height": 658
        },
        "id": "ojd4sz2yY76G",
        "outputId": "89209350-25bb-4b28-cf0e-b4dd69a486d6"
      },
      "execution_count": 78,
      "outputs": [
        {
          "output_type": "execute_result",
          "data": {
            "text/plain": [
              "Text(0.5, 1.0, 'model accuracy')"
            ]
          },
          "metadata": {},
          "execution_count": 78
        },
        {
          "output_type": "display_data",
          "data": {
            "text/plain": [
              "<Figure size 700x700 with 1 Axes>"
            ],
            "image/png": "[encoded data removed]"
          },
          "metadata": {}
        }
      ]
    },
    {
      "cell_type": "code",
      "source": [
        "cnn_model.evaluate(X_test,y_test)"
      ],
      "metadata": {
        "colab": {
          "base_uri": "https://localhost:8080/"
        },
        "id": "eFEwmgtMZXYA",
        "outputId": "3e7c10a6-ad58-4f7e-c955-56082aa85e42"
      },
      "execution_count": 80,
      "outputs": [
        {
          "output_type": "stream",
          "name": "stdout",
          "text": [
            "313/313 [==============================] - 3s 10ms/step - loss: 0.9545 - accuracy: 0.6951\n"
          ]
        },
        {
          "output_type": "execute_result",
          "data": {
            "text/plain": [
              "[0.9544682502746582, 0.6951000094413757]"
            ]
          },
          "metadata": {},
          "execution_count": 80
        }
      ]
    },
    {
      "cell_type": "code",
      "source": [
        "y_pred=cnn_model.predict(X_test)"
      ],
      "metadata": {
        "colab": {
          "base_uri": "https://localhost:8080/"
        },
        "id": "_f0i6ONrZhAP",
        "outputId": "031a7a6e-01a4-449d-c453-455489d6f7d7"
      },
      "execution_count": 85,
      "outputs": [
        {
          "output_type": "stream",
          "name": "stdout",
          "text": [
            "313/313 [==============================] - 3s 9ms/step\n"
          ]
        }
      ]
    },
    {
      "cell_type": "code",
      "source": [
        "y_classes=[np.argmax(element) for element in y_pred]"
      ],
      "metadata": {
        "id": "ka3UrhdqZvqu"
      },
      "execution_count": 88,
      "outputs": []
    },
    {
      "cell_type": "code",
      "source": [
        "print(\"Classification Report: \\n\", classification_report(y_test, y_classes))"
      ],
      "metadata": {
        "colab": {
          "base_uri": "https://localhost:8080/"
        },
        "id": "sRg_LlWoZ5UV",
        "outputId": "3f178a8c-cf0f-4b4d-ee41-42530f95f69c"
      },
      "execution_count": 89,
      "outputs": [
        {
          "output_type": "stream",
          "name": "stdout",
          "text": [
            "Classification Report: \n",
            "               precision    recall  f1-score   support\n",
            "\n",
            "           0       0.80      0.65      0.72      1000\n",
            "           1       0.86      0.76      0.81      1000\n",
            "           2       0.59      0.53      0.56      1000\n",
            "           3       0.53      0.52      0.52      1000\n",
            "           4       0.62      0.66      0.64      1000\n",
            "           5       0.62      0.62      0.62      1000\n",
            "           6       0.67      0.86      0.75      1000\n",
            "           7       0.72      0.76      0.74      1000\n",
            "           8       0.77      0.83      0.80      1000\n",
            "           9       0.81      0.75      0.78      1000\n",
            "\n",
            "    accuracy                           0.70     10000\n",
            "   macro avg       0.70      0.70      0.69     10000\n",
            "weighted avg       0.70      0.70      0.69     10000\n",
            "\n"
          ]
        }
      ]
    },
    {
      "cell_type": "code",
      "source": [],
      "metadata": {
        "id": "itJcoX28Z_hG"
      },
      "execution_count": null,
      "outputs": []
    }
  ]
}